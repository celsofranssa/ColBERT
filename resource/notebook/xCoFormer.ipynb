{
  "nbformat": 4,
  "nbformat_minor": 0,
  "metadata": {
    "accelerator": "GPU",
    "colab": {
      "name": "xCoFormer.ipynb",
      "provenance": [],
      "machine_shape": "hm"
    },
    "kernelspec": {
      "display_name": "Python 3",
      "name": "python3"
    }
  },
  "cells": [
    {
      "cell_type": "markdown",
      "metadata": {
        "id": "R6E2zZd-3zI9"
      },
      "source": [
        "### Setup"
      ]
    },
    {
      "cell_type": "markdown",
      "metadata": {
        "id": "iR7JtAq9UF0d"
      },
      "source": [
        "Using Colab terminal clone the Github repository:\n",
        "\n",
        " `git clone https://github.com/celsofranssa/xCoFormer.git`\n"
      ]
    },
    {
      "cell_type": "code",
      "metadata": {
        "colab": {
          "base_uri": "https://localhost:8080/"
        },
        "id": "dj2g9wHPPtx2",
        "outputId": "3e34b141-b20c-4e0a-af69-736bf3cf89cc"
      },
      "source": [
        "# After cloning the repo\n",
        "!pip install -qr /content/xCoFormer/requirements.txt"
      ],
      "execution_count": 4,
      "outputs": [
        {
          "output_type": "stream",
          "text": [
            "\u001b[K     |████████████████████████████████| 675kB 14.4MB/s \n",
            "\u001b[K     |████████████████████████████████| 1.4MB 14.2MB/s \n",
            "\u001b[K     |████████████████████████████████| 122kB 64.3MB/s \n",
            "\u001b[K     |████████████████████████████████| 71kB 8.7MB/s \n",
            "\u001b[K     |████████████████████████████████| 92kB 12.2MB/s \n",
            "\u001b[K     |████████████████████████████████| 194kB 59.1MB/s \n",
            "\u001b[K     |████████████████████████████████| 276kB 56.9MB/s \n",
            "\u001b[K     |████████████████████████████████| 829kB 56.4MB/s \n",
            "\u001b[K     |████████████████████████████████| 102kB 10.5MB/s \n",
            "\u001b[K     |████████████████████████████████| 890kB 53.5MB/s \n",
            "\u001b[K     |████████████████████████████████| 2.9MB 51.6MB/s \n",
            "\u001b[K     |████████████████████████████████| 112kB 54.6MB/s \n",
            "\u001b[?25h  Building wheel for Hydra (setup.py) ... \u001b[?25l\u001b[?25hdone\n",
            "  Building wheel for nmslib (setup.py) ... \u001b[?25l\u001b[?25hdone\n",
            "  Building wheel for PyYAML (setup.py) ... \u001b[?25l\u001b[?25hdone\n",
            "  Building wheel for future (setup.py) ... \u001b[?25l\u001b[?25hdone\n",
            "  Building wheel for sacremoses (setup.py) ... \u001b[?25l\u001b[?25hdone\n",
            "  Building wheel for antlr4-python3-runtime (setup.py) ... \u001b[?25l\u001b[?25hdone\n"
          ],
          "name": "stdout"
        }
      ]
    },
    {
      "cell_type": "code",
      "metadata": {
        "id": "hhxqSYdY327z",
        "colab": {
          "base_uri": "https://localhost:8080/"
        },
        "outputId": "782d27dd-6c65-4040-bb19-48906767a2ed"
      },
      "source": [
        "# Mount GDrive\n",
        "from google.colab import drive\n",
        "drive.mount('/content/drive')"
      ],
      "execution_count": 2,
      "outputs": [
        {
          "output_type": "stream",
          "text": [
            "Mounted at /content/drive\n"
          ],
          "name": "stdout"
        }
      ]
    },
    {
      "cell_type": "code",
      "metadata": {
        "colab": {
          "base_uri": "https://localhost:8080/"
        },
        "id": "SvQA4HeVQpzA",
        "outputId": "b553a3c5-e91e-411a-821a-dd0f6f991c3e"
      },
      "source": [
        "# change directory to source\n",
        "%cd /content/xCoFormer/source\n",
        "\n",
        "# setting PYTHONPATH\n",
        "%set_env PYTHONPATH=$PATHONPATH:/content/xCoFormer/"
      ],
      "execution_count": 8,
      "outputs": [
        {
          "output_type": "stream",
          "text": [
            "/content/xCoFormer/source\n",
            "env: PYTHONPATH=$PATHONPATH:/content/xCoFormer/\n"
          ],
          "name": "stdout"
        }
      ]
    },
    {
      "cell_type": "markdown",
      "metadata": {
        "id": "PM73UnS1mLjz"
      },
      "source": [
        "#### copy datasets from drive to datasets folder"
      ]
    },
    {
      "cell_type": "code",
      "metadata": {
        "id": "cVp2g4I2gEVh"
      },
      "source": [
        "!cp -r /content/drive/MyDrive/code_search/datasets/ \\\n",
        "    /content/xCoFormer/resources/"
      ],
      "execution_count": 6,
      "outputs": []
    },
    {
      "cell_type": "markdown",
      "metadata": {
        "id": "gSZ90kIwXXVg"
      },
      "source": [
        "### GPU"
      ]
    },
    {
      "cell_type": "code",
      "metadata": {
        "colab": {
          "base_uri": "https://localhost:8080/"
        },
        "id": "SBehKrZtQ4z4",
        "outputId": "a54f94b4-36df-4e80-bd22-39ef8be6355a"
      },
      "source": [
        "# check which GPU is available\n",
        "!nvidia-smi"
      ],
      "execution_count": 5,
      "outputs": [
        {
          "output_type": "stream",
          "text": [
            "Thu Dec 31 16:23:10 2020       \n",
            "+-----------------------------------------------------------------------------+\n",
            "| NVIDIA-SMI 460.27.04    Driver Version: 418.67       CUDA Version: 10.1     |\n",
            "|-------------------------------+----------------------+----------------------+\n",
            "| GPU  Name        Persistence-M| Bus-Id        Disp.A | Volatile Uncorr. ECC |\n",
            "| Fan  Temp  Perf  Pwr:Usage/Cap|         Memory-Usage | GPU-Util  Compute M. |\n",
            "|                               |                      |               MIG M. |\n",
            "|===============================+======================+======================|\n",
            "|   0  Tesla V100-SXM2...  Off  | 00000000:00:04.0 Off |                    0 |\n",
            "| N/A   34C    P0    25W / 300W |      0MiB / 16130MiB |      0%      Default |\n",
            "|                               |                      |                 ERR! |\n",
            "+-------------------------------+----------------------+----------------------+\n",
            "                                                                               \n",
            "+-----------------------------------------------------------------------------+\n",
            "| Processes:                                                                  |\n",
            "|  GPU   GI   CI        PID   Type   Process name                  GPU Memory |\n",
            "|        ID   ID                                                   Usage      |\n",
            "|=============================================================================|\n",
            "|  No running processes found                                                 |\n",
            "+-----------------------------------------------------------------------------+\n"
          ],
          "name": "stdout"
        }
      ]
    },
    {
      "cell_type": "markdown",
      "metadata": {
        "id": "ZgoPQb4nXczC"
      },
      "source": [
        "### Training"
      ]
    },
    {
      "cell_type": "code",
      "metadata": {
        "id": "kwMIpboXRBwp",
        "colab": {
          "base_uri": "https://localhost:8080/"
        },
        "outputId": "0f5c4b5a-bfaf-4dec-c413-bb27606ebc78"
      },
      "source": [
        "!python3 xCoFormer.py \\\n",
        "    tasks=[fit] \\\n",
        "    model=rnn \\\n",
        "    data=java_v01 \\\n",
        "    data.batch_size=128 \\\n",
        "    trainer.max_epochs=1"
      ],
      "execution_count": null,
      "outputs": [
        {
          "output_type": "stream",
          "text": [
            "2020-12-31 16:23:47.881471: I tensorflow/stream_executor/platform/default/dso_loader.cc:49] Successfully opened dynamic library libcudart.so.10.1\n",
            "/content/xCoFormer/source\n",
            "log:\n",
            "  dir: ../resources/logs/\n",
            "model_checkpoint:\n",
            "  dir: ../resources/model_checkpoints/\n",
            "tasks:\n",
            "- fit\n",
            "stats:\n",
            "  dir: ../resources/stats/\n",
            "trainer:\n",
            "  max_epochs: 1\n",
            "  fast_dev_run: false\n",
            "model:\n",
            "  name: rnn\n",
            "  x1_encoder: source.encoder.RNNEncoder.RNNEncoder\n",
            "  x1_encoder_hparams:\n",
            "    vocabulary_size: 50000\n",
            "    representation_size: 768\n",
            "    hidden_size: 768\n",
            "  lr: 1.0e-07\n",
            "  x2_encoder: source.encoder.RNNEncoder.RNNEncoder\n",
            "  x2_encoder_hparams:\n",
            "    vocabulary_size: 50000\n",
            "    representation_size: 768\n",
            "    hidden_size: 768\n",
            "  tokenizer:\n",
            "    architecture: bert-base-uncased\n",
            "  predictions:\n",
            "    path: ../resources/predictions/rnn_predictions.pt\n",
            "data:\n",
            "  name: java_v01\n",
            "  train:\n",
            "    path: ../resources/datasets/java_v01/train.jsonl\n",
            "    num_samples: 1257391\n",
            "  test:\n",
            "    path: ../resources/datasets/java_v01/test.jsonl\n",
            "    num_samples: 71892\n",
            "  val:\n",
            "    path: ../resources/datasets/java_v01/val.jsonl\n",
            "    num_samples: 73805\n",
            "  batch_size: 128\n",
            "  num_workers: 64\n",
            "  x1_length: 16\n",
            "  x2_length: 64\n",
            "\n",
            "/usr/local/lib/python3.6/dist-packages/pytorch_lightning/utilities/distributed.py:49: UserWarning: Checkpoint directory ../resources/model_checkpoints/ exists and is not empty.\n",
            "  warnings.warn(*args, **kwargs)\n",
            "[2020-12-31 16:23:51,245][filelock][INFO] - Lock 139865650030128 acquired on /root/.cache/huggingface/transformers/3c61d016573b14f7f008c02c4e51a366c67ab274726fe2910691e2a761acf43e.637c6035640bacb831febcc2b7f7bee0a96f9b30c2d7e9ef84082d9f252f3170.lock\n",
            "Downloading: 100% 433/433 [00:00<00:00, 351kB/s]\n",
            "[2020-12-31 16:23:51,515][filelock][INFO] - Lock 139865650030128 released on /root/.cache/huggingface/transformers/3c61d016573b14f7f008c02c4e51a366c67ab274726fe2910691e2a761acf43e.637c6035640bacb831febcc2b7f7bee0a96f9b30c2d7e9ef84082d9f252f3170.lock\n",
            "[2020-12-31 16:23:51,790][filelock][INFO] - Lock 139865649964312 acquired on /root/.cache/huggingface/transformers/45c3f7a79a80e1cf0a489e5c62b43f173c15db47864303a55d623bb3c96f72a5.d789d64ebfe299b0e416afc4a169632f903f693095b4629a7ea271d5a0cf2c99.lock\n",
            "Downloading: 100% 232k/232k [00:00<00:00, 689kB/s]\n",
            "[2020-12-31 16:23:52,398][filelock][INFO] - Lock 139865649964312 released on /root/.cache/huggingface/transformers/45c3f7a79a80e1cf0a489e5c62b43f173c15db47864303a55d623bb3c96f72a5.d789d64ebfe299b0e416afc4a169632f903f693095b4629a7ea271d5a0cf2c99.lock\n",
            "[2020-12-31 16:23:52,671][filelock][INFO] - Lock 139865649558640 acquired on /root/.cache/huggingface/transformers/534479488c54aeaf9c3406f647aa2ec13648c06771ffe269edabebd4c412da1d.7f2721073f19841be16f41b0a70b600ca6b880c8f3df6f3535cbc704371bdfa4.lock\n",
            "Downloading: 100% 466k/466k [00:00<00:00, 1.11MB/s]\n",
            "[2020-12-31 16:23:53,363][filelock][INFO] - Lock 139865649558640 released on /root/.cache/huggingface/transformers/534479488c54aeaf9c3406f647aa2ec13648c06771ffe269edabebd4c412da1d.7f2721073f19841be16f41b0a70b600ca6b880c8f3df6f3535cbc704371bdfa4.lock\n",
            "log:\n",
            "  dir: ../resources/logs/\n",
            "model_checkpoint:\n",
            "  dir: ../resources/model_checkpoints/\n",
            "tasks:\n",
            "- fit\n",
            "stats:\n",
            "  dir: ../resources/stats/\n",
            "trainer:\n",
            "  max_epochs: 1\n",
            "  fast_dev_run: false\n",
            "model:\n",
            "  name: rnn\n",
            "  x1_encoder: source.encoder.RNNEncoder.RNNEncoder\n",
            "  x1_encoder_hparams:\n",
            "    vocabulary_size: 50000\n",
            "    representation_size: 768\n",
            "    hidden_size: 768\n",
            "  lr: 1.0e-07\n",
            "  x2_encoder: source.encoder.RNNEncoder.RNNEncoder\n",
            "  x2_encoder_hparams:\n",
            "    vocabulary_size: 50000\n",
            "    representation_size: 768\n",
            "    hidden_size: 768\n",
            "  tokenizer:\n",
            "    architecture: bert-base-uncased\n",
            "  predictions:\n",
            "    path: ../resources/predictions/rnn_predictions.pt\n",
            "data:\n",
            "  name: java_v01\n",
            "  train:\n",
            "    path: ../resources/datasets/java_v01/train.jsonl\n",
            "    num_samples: 1257391\n",
            "  test:\n",
            "    path: ../resources/datasets/java_v01/test.jsonl\n",
            "    num_samples: 71892\n",
            "  val:\n",
            "    path: ../resources/datasets/java_v01/val.jsonl\n",
            "    num_samples: 73805\n",
            "  batch_size: 128\n",
            "  num_workers: 64\n",
            "  x1_length: 16\n",
            "  x2_length: 64\n",
            "\n",
            "/usr/local/lib/python3.6/dist-packages/pytorch_lightning/utilities/distributed.py:49: UserWarning: You have set progress_bar_refresh_rate < 20 on Google Colab. This may crash. Consider using progress_bar_refresh_rate >= 20 in Trainer.\n",
            "  warnings.warn(*args, **kwargs)\n",
            "GPU available: True, used: True\n",
            "[2020-12-31 16:23:54,472][lightning][INFO] - GPU available: True, used: True\n",
            "TPU available: None, using: 0 TPU cores\n",
            "[2020-12-31 16:23:54,472][lightning][INFO] - TPU available: None, using: 0 TPU cores\n",
            "LOCAL_RANK: 0 - CUDA_VISIBLE_DEVICES: [0]\n",
            "[2020-12-31 16:23:54,472][lightning][INFO] - LOCAL_RANK: 0 - CUDA_VISIBLE_DEVICES: [0]\n",
            "\n",
            "  | Name       | Type                         | Params\n",
            "------------------------------------------------------------\n",
            "0 | x1_encoder | RNNEncoder                   | 45.5 M\n",
            "1 | x2_encoder | RNNEncoder                   | 45.5 M\n",
            "2 | loss_fn    | MultipleNegativesRankingLoss | 0     \n",
            "3 | mrr        | MRRMetric                    | 0     \n",
            "------------------------------------------------------------\n",
            "91.0 M    Trainable params\n",
            "0         Non-trainable params\n",
            "91.0 M    Total params\n",
            "[2020-12-31 16:24:10,024][lightning][INFO] - \n",
            "  | Name       | Type                         | Params\n",
            "------------------------------------------------------------\n",
            "0 | x1_encoder | RNNEncoder                   | 45.5 M\n",
            "1 | x2_encoder | RNNEncoder                   | 45.5 M\n",
            "2 | loss_fn    | MultipleNegativesRankingLoss | 0     \n",
            "3 | mrr        | MRRMetric                    | 0     \n",
            "------------------------------------------------------------\n",
            "91.0 M    Trainable params\n",
            "0         Non-trainable params\n",
            "91.0 M    Total params\n",
            "Epoch 0:  19% 1930/10399 [01:50<08:06, 17.41it/s, loss=5.05, v_num=0, val_mrr=0.0426, val_loss=5.09]"
          ],
          "name": "stdout"
        }
      ]
    }
  ]
}